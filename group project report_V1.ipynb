{
 "cells": [
  {
   "cell_type": "markdown",
   "id": "3075abb8-53e3-4911-983f-837e28934853",
   "metadata": {},
   "source": [
    "# DSCI 100-Group Project : Predicting Type 2 Diabetes\n",
    "Bhavya Mohan, Jason Jonathan, Sherin X, Neha Menon"
   ]
  },
  {
   "cell_type": "markdown",
   "id": "492a32f6-6853-4057-a843-f52bdb9c9355",
   "metadata": {},
   "source": [
    "Introduction: \n"
   ]
  },
  {
   "cell_type": "markdown",
   "id": "5be01965-fd77-4930-90c3-293ba9c45fbc",
   "metadata": {},
   "source": [
    "Methods/Results:"
   ]
  },
  {
   "cell_type": "markdown",
   "id": "7191d99b-7bbd-469d-b461-69307cd0223b",
   "metadata": {},
   "source": [
    "Discussion:"
   ]
  },
  {
   "cell_type": "code",
   "execution_count": 1,
   "id": "497d25e0-075b-46dd-a2b7-1329fed55fa1",
   "metadata": {},
   "outputs": [
    {
     "name": "stderr",
     "output_type": "stream",
     "text": [
      "\n",
      "Attaching package: ‘dplyr’\n",
      "\n",
      "\n",
      "The following objects are masked from ‘package:stats’:\n",
      "\n",
      "    filter, lag\n",
      "\n",
      "\n",
      "The following objects are masked from ‘package:base’:\n",
      "\n",
      "    intersect, setdiff, setequal, union\n",
      "\n",
      "\n",
      "── \u001b[1mAttaching packages\u001b[22m ─────────────────────────────────────── tidyverse 1.3.1 ──\n",
      "\n",
      "\u001b[32m✔\u001b[39m \u001b[34mtibble \u001b[39m 3.1.7     \u001b[32m✔\u001b[39m \u001b[34mpurrr  \u001b[39m 0.3.4\n",
      "\u001b[32m✔\u001b[39m \u001b[34mtidyr  \u001b[39m 1.2.0     \u001b[32m✔\u001b[39m \u001b[34mstringr\u001b[39m 1.4.0\n",
      "\u001b[32m✔\u001b[39m \u001b[34mreadr  \u001b[39m 2.1.2     \u001b[32m✔\u001b[39m \u001b[34mforcats\u001b[39m 0.5.1\n",
      "\n",
      "── \u001b[1mConflicts\u001b[22m ────────────────────────────────────────── tidyverse_conflicts() ──\n",
      "\u001b[31m✖\u001b[39m \u001b[34mdplyr\u001b[39m::\u001b[32mfilter()\u001b[39m masks \u001b[34mstats\u001b[39m::filter()\n",
      "\u001b[31m✖\u001b[39m \u001b[34mdplyr\u001b[39m::\u001b[32mlag()\u001b[39m    masks \u001b[34mstats\u001b[39m::lag()\n",
      "\n",
      "── \u001b[1mAttaching packages\u001b[22m ────────────────────────────────────── tidymodels 1.0.0 ──\n",
      "\n",
      "\u001b[32m✔\u001b[39m \u001b[34mbroom       \u001b[39m 1.0.0     \u001b[32m✔\u001b[39m \u001b[34mrsample     \u001b[39m 1.0.0\n",
      "\u001b[32m✔\u001b[39m \u001b[34mdials       \u001b[39m 1.0.0     \u001b[32m✔\u001b[39m \u001b[34mtune        \u001b[39m 1.0.0\n",
      "\u001b[32m✔\u001b[39m \u001b[34minfer       \u001b[39m 1.0.2     \u001b[32m✔\u001b[39m \u001b[34mworkflows   \u001b[39m 1.0.0\n",
      "\u001b[32m✔\u001b[39m \u001b[34mmodeldata   \u001b[39m 1.0.0     \u001b[32m✔\u001b[39m \u001b[34mworkflowsets\u001b[39m 1.0.0\n",
      "\u001b[32m✔\u001b[39m \u001b[34mparsnip     \u001b[39m 1.0.0     \u001b[32m✔\u001b[39m \u001b[34myardstick   \u001b[39m 1.0.0\n",
      "\u001b[32m✔\u001b[39m \u001b[34mrecipes     \u001b[39m 1.0.1     \n",
      "\n",
      "── \u001b[1mConflicts\u001b[22m ───────────────────────────────────────── tidymodels_conflicts() ──\n",
      "\u001b[31m✖\u001b[39m \u001b[34mscales\u001b[39m::\u001b[32mdiscard()\u001b[39m masks \u001b[34mpurrr\u001b[39m::discard()\n",
      "\u001b[31m✖\u001b[39m \u001b[34mdplyr\u001b[39m::\u001b[32mfilter()\u001b[39m   masks \u001b[34mstats\u001b[39m::filter()\n",
      "\u001b[31m✖\u001b[39m \u001b[34mrecipes\u001b[39m::\u001b[32mfixed()\u001b[39m  masks \u001b[34mstringr\u001b[39m::fixed()\n",
      "\u001b[31m✖\u001b[39m \u001b[34mdplyr\u001b[39m::\u001b[32mlag()\u001b[39m      masks \u001b[34mstats\u001b[39m::lag()\n",
      "\u001b[31m✖\u001b[39m \u001b[34myardstick\u001b[39m::\u001b[32mspec()\u001b[39m masks \u001b[34mreadr\u001b[39m::spec()\n",
      "\u001b[31m✖\u001b[39m \u001b[34mrecipes\u001b[39m::\u001b[32mstep()\u001b[39m   masks \u001b[34mstats\u001b[39m::step()\n",
      "\u001b[34m•\u001b[39m Use suppressPackageStartupMessages() to eliminate package startup messages\n",
      "\n",
      "\n",
      "Attaching package: ‘gridExtra’\n",
      "\n",
      "\n",
      "The following object is masked from ‘package:dplyr’:\n",
      "\n",
      "    combine\n",
      "\n",
      "\n"
     ]
    }
   ],
   "source": [
    "# Loading Packages ----\n",
    "library(ggplot2)\n",
    "library(dplyr)\n",
    "library(tidyverse)\n",
    "library(repr)\n",
    "library(tidymodels)\n",
    "library(kknn)\n",
    "library(gridExtra)"
   ]
  },
  {
   "cell_type": "code",
   "execution_count": 4,
   "id": "868e2237-2388-45ca-b55f-be385bf26880",
   "metadata": {},
   "outputs": [
    {
     "name": "stderr",
     "output_type": "stream",
     "text": [
      "\u001b[1mRows: \u001b[22m\u001b[34m1000\u001b[39m \u001b[1mColumns: \u001b[22m\u001b[34m14\u001b[39m\n",
      "\u001b[36m──\u001b[39m \u001b[1mColumn specification\u001b[22m \u001b[36m────────────────────────────────────────────────────────\u001b[39m\n",
      "\u001b[1mDelimiter:\u001b[22m \",\"\n",
      "\u001b[31mchr\u001b[39m  (2): Gender, CLASS\n",
      "\u001b[32mdbl\u001b[39m (12): ID, No_Pation, AGE, Urea, Cr, HbA1c, Chol, TG, HDL, LDL, VLDL, BMI\n",
      "\n",
      "\u001b[36mℹ\u001b[39m Use `spec()` to retrieve the full column specification for this data.\n",
      "\u001b[36mℹ\u001b[39m Specify the column types or set `show_col_types = FALSE` to quiet this message.\n"
     ]
    }
   ],
   "source": [
    "# Load data ----\n",
    "\n",
    "## CLASS refers to diabetes where n is no diabetes, y is diabetic, and p is poteintially diabetic\n",
    "\n",
    "url <- \"https://raw.githubusercontent.com/jasonj17/DSCI100Project/main/Dataset%20of%20Diabetes%20.csv\"\n",
    "data <- read_csv(url)|>\n",
    "    mutate(CLASS = as_factor(CLASS))\n",
    "\n",
    "### Data is already in Tidy Format"
   ]
  },
  {
   "cell_type": "code",
   "execution_count": 5,
   "id": "60189526-10ef-410c-86ee-9973d9e6eb87",
   "metadata": {},
   "outputs": [],
   "source": [
    "#### Make the training data\n",
    "set.seed(1035)\n",
    "\n",
    "data_split <- initial_split(data, prop = 0.75, strata = CLASS)  \n",
    "data_train <- training(data_split)   \n",
    "data_test <- testing(data_split)\n"
   ]
  },
  {
   "cell_type": "code",
   "execution_count": 6,
   "id": "32c75146-8ddb-4e07-b29d-20054a34a619",
   "metadata": {},
   "outputs": [],
   "source": [
    "data_recipe <- recipe(CLASS ~ BMI + HbA1c, data = data_train) |>\n",
    "    step_scale(all_predictors()) |>\n",
    "    step_center(all_predictors())\n"
   ]
  },
  {
   "cell_type": "code",
   "execution_count": 7,
   "id": "76a16cfb-c428-4f14-906c-42daa7125bfa",
   "metadata": {},
   "outputs": [],
   "source": [
    "knn_tune <- nearest_neighbor(weight_func = \"rectangular\", neighbors = tune()) |>\n",
    "       set_engine(\"kknn\") |>\n",
    "       set_mode(\"classification\")\n",
    "\n",
    "data_vfold <- vfold_cv(data_train, v = 10, strata = CLASS)\n",
    "\n",
    "\n",
    "knn_results <- workflow() |>\n",
    "       add_recipe(data_recipe) |>\n",
    "       add_model(knn_tune) |>\n",
    "       tune_grid(resamples = data_vfold, grid = 10) |>\n",
    "       collect_metrics()"
   ]
  },
  {
   "cell_type": "code",
   "execution_count": 8,
   "id": "fd994ae6-6226-4b67-8bb8-b4477266d000",
   "metadata": {},
   "outputs": [
    {
     "data": {
      "image/png": "[encoded data removed]",
      "text/plain": [
       "plot without title"
      ]
     },
     "metadata": {
      "image/png": {
       "height": 420,
       "width": 420
      }
     },
     "output_type": "display_data"
    }
   ],
   "source": [
    "accuracies <- knn_results |> \n",
    "       filter(.metric == \"accuracy\")\n",
    "\n",
    "accuracy_versus_k <- ggplot(accuracies, aes(x = neighbors, y = mean))+\n",
    "       geom_point() +\n",
    "       geom_line() +\n",
    "       labs(x = \"Neighbors\", y = \"Accuracy Estimate\") +\n",
    "       scale_x_continuous(breaks = seq(0, 20, by = 1))\n",
    "accuracy_versus_k"
   ]
  },
  {
   "cell_type": "code",
   "execution_count": 9,
   "id": "0ae7d055-68cd-4362-85ca-60e4d4954880",
   "metadata": {},
   "outputs": [],
   "source": [
    "knn_best_spec <- nearest_neighbor(weight_func = \"rectangular\", neighbors = 9) |>\n",
    "  set_engine(\"kknn\") |>\n",
    "  set_mode(\"classification\")"
   ]
  },
  {
   "cell_type": "code",
   "execution_count": 10,
   "id": "c1cdb563-6142-4a1e-8abb-ef152bc460ff",
   "metadata": {},
   "outputs": [],
   "source": [
    "best_fit <- workflow() |>\n",
    "  add_recipe(data_recipe) |>\n",
    "  add_model(knn_best_spec) |>\n",
    "  fit(data = data_train)"
   ]
  },
  {
   "cell_type": "code",
   "execution_count": 11,
   "id": "9a62209c-ff29-49ba-bd4f-d0920f1b2d2d",
   "metadata": {},
   "outputs": [],
   "source": [
    "data_predictions <- predict(best_fit, data_test) |> \n",
    "    bind_cols(data_test)"
   ]
  },
  {
   "cell_type": "code",
   "execution_count": 12,
   "id": "b3a099f5-dfba-4090-b187-3255b39065d6",
   "metadata": {},
   "outputs": [
    {
     "data": {
      "text/html": [
       "<table class=\"dataframe\">\n",
       "<caption>A tibble: 1 × 2</caption>\n",
       "<thead>\n",
       "\t<tr><th scope=col>.metric</th><th scope=col>.estimate</th></tr>\n",
       "\t<tr><th scope=col>&lt;chr&gt;</th><th scope=col>&lt;dbl&gt;</th></tr>\n",
       "</thead>\n",
       "<tbody>\n",
       "\t<tr><td>accuracy</td><td>0.9561753</td></tr>\n",
       "</tbody>\n",
       "</table>\n"
      ],
      "text/latex": [
       "A tibble: 1 × 2\n",
       "\\begin{tabular}{ll}\n",
       " .metric & .estimate\\\\\n",
       " <chr> & <dbl>\\\\\n",
       "\\hline\n",
       "\t accuracy & 0.9561753\\\\\n",
       "\\end{tabular}\n"
      ],
      "text/markdown": [
       "\n",
       "A tibble: 1 × 2\n",
       "\n",
       "| .metric &lt;chr&gt; | .estimate &lt;dbl&gt; |\n",
       "|---|---|\n",
       "| accuracy | 0.9561753 |\n",
       "\n"
      ],
      "text/plain": [
       "  .metric  .estimate\n",
       "1 accuracy 0.9561753"
      ]
     },
     "metadata": {},
     "output_type": "display_data"
    }
   ],
   "source": [
    "data_acc <- data_predictions |> \n",
    "    metrics(truth = CLASS, estimate = .pred_class) |> \n",
    "    select(.metric, .estimate)|>\n",
    "    head(1)\n",
    "data_acc"
   ]
  },
  {
   "cell_type": "code",
   "execution_count": 13,
   "id": "506689ef-e317-4777-920f-ed736515a3e1",
   "metadata": {},
   "outputs": [
    {
     "data": {
      "text/plain": [
       "          Truth\n",
       "Prediction   N   P   Y\n",
       "         N  27   1   9\n",
       "         P   0  12   0\n",
       "         Y   1   0 201"
      ]
     },
     "metadata": {},
     "output_type": "display_data"
    }
   ],
   "source": [
    "data_cm <- data_predictions |> \n",
    "    conf_mat(truth = CLASS, estimate = .pred_class)\n",
    "data_cm"
   ]
  },
  {
   "cell_type": "code",
   "execution_count": 14,
   "id": "e36902b8-158c-4e20-b0a5-c30773a26278",
   "metadata": {},
   "outputs": [
    {
     "name": "stderr",
     "output_type": "stream",
     "text": [
      "ERROR while rich displaying an object: Error in FUN(X[[i]], ...): object 'CLASS' not found\n",
      "\n",
      "Traceback:\n",
      "1. tryCatch(withCallingHandlers({\n",
      " .     if (!mime %in% names(repr::mime2repr)) \n",
      " .         stop(\"No repr_* for mimetype \", mime, \" in repr::mime2repr\")\n",
      " .     rpr <- repr::mime2repr[[mime]](obj)\n",
      " .     if (is.null(rpr)) \n",
      " .         return(NULL)\n",
      " .     prepare_content(is.raw(rpr), rpr)\n",
      " . }, error = error_handler), error = outer_handler)\n",
      "2. tryCatchList(expr, classes, parentenv, handlers)\n",
      "3. tryCatchOne(expr, names, parentenv, handlers[[1L]])\n",
      "4. doTryCatch(return(expr), name, parentenv, handler)\n",
      "5. withCallingHandlers({\n",
      " .     if (!mime %in% names(repr::mime2repr)) \n",
      " .         stop(\"No repr_* for mimetype \", mime, \" in repr::mime2repr\")\n",
      " .     rpr <- repr::mime2repr[[mime]](obj)\n",
      " .     if (is.null(rpr)) \n",
      " .         return(NULL)\n",
      " .     prepare_content(is.raw(rpr), rpr)\n",
      " . }, error = error_handler)\n",
      "6. repr::mime2repr[[mime]](obj)\n",
      "7. repr_text.default(obj)\n",
      "8. paste(capture.output(print(obj)), collapse = \"\\n\")\n",
      "9. capture.output(print(obj))\n",
      "10. withVisible(...elt(i))\n",
      "11. print(obj)\n",
      "12. print.ggplot(obj)\n",
      "13. ggplot_build(x)\n",
      "14. ggplot_build.ggplot(x)\n",
      "15. by_layer(function(l, d) l$compute_aesthetics(d, plot))\n",
      "16. f(l = layers[[i]], d = data[[i]])\n",
      "17. l$compute_aesthetics(d, plot)\n",
      "18. f(..., self = self)\n",
      "19. lapply(aesthetics, eval_tidy, data = data, env = env)\n",
      "20. FUN(X[[i]], ...)\n"
     ]
    },
    {
     "data": {
      "image/png": "[encoded data removed]",
      "text/plain": [
       "plot without title"
      ]
     },
     "metadata": {
      "image/png": {
       "height": 420,
       "width": 420
      }
     },
     "output_type": "display_data"
    }
   ],
   "source": [
    "bmi_grid <- seq(min(data$BMI), \n",
    "                max(data$BMI), \n",
    "                length.out = 100)\n",
    "HbA_grid <- seq(min(data$HbA1c), \n",
    "                max(data$HbA1c), \n",
    "                length.out = 100)\n",
    "asgrid <- as_tibble(expand.grid(BMI = bmi_grid, \n",
    "                                HbA1c = HbA_grid))\n",
    "\n",
    "\n",
    "# use the fit workflow to make predictions at the grid points\n",
    "knnPredGrid <- predict(best_fit, asgrid)\n",
    "\n",
    "# bind the predictions as a new column with the grid points\n",
    "prediction_table <- bind_cols(knnPredGrid, asgrid) |> \n",
    "  rename(Class = .pred_class)\n",
    "\n",
    "\n",
    "wkflw_plot <- ggplot() +\n",
    "  geom_point(data = data_train, \n",
    "             mapping = aes(x = BMI, \n",
    "                           y = HbA1c, \n",
    "                           color = CLASS), \n",
    "             alpha = 0.75) +\n",
    "  geom_point(data = prediction_table, \n",
    "             mapping = aes(x = BMI, \n",
    "                           y = HbA1c, \n",
    "                           color = CLASS), \n",
    "             alpha = 0.02, \n",
    "             size = 5) +\n",
    "  labs(color = \"Diagnosis\", \n",
    "       x = \"BMI (standardized)\", \n",
    "       y = \"BMI (standardized)\") +\n",
    "  scale_color_manual(labels = c(\"Malignant\", \"Benign\", \"Unknown\"), \n",
    "                     values = c(\"orange2\", \"steelblue2\", \"red\")) +\n",
    "  theme(text = element_text(size = 12))\n",
    "\n",
    "wkflw_plot"
   ]
  },
  {
   "cell_type": "code",
   "execution_count": null,
   "id": "948e37c4-6319-440e-b3e6-f478b9c12160",
   "metadata": {},
   "outputs": [],
   "source": []
  }
 ],
 "metadata": {
  "kernelspec": {
   "display_name": "R",
   "language": "R",
   "name": "ir"
  },
  "language_info": {
   "codemirror_mode": "r",
   "file_extension": ".r",
   "mimetype": "text/x-r-source",
   "name": "R",
   "pygments_lexer": "r",
   "version": "4.1.3"
  }
 },
 "nbformat": 4,
 "nbformat_minor": 5
}
