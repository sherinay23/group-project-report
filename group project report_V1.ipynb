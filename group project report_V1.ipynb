{
 "cells": [
  {
   "cell_type": "markdown",
   "id": "3075abb8-53e3-4911-983f-837e28934853",
   "metadata": {},
   "source": [
    "hello, can you see these changes"
   ]
  },
  {
   "cell_type": "code",
   "execution_count": null,
   "id": "f9133388-67b6-48a6-a73b-23ce22c9f004",
   "metadata": {},
   "outputs": [],
   "source": []
  }
 ],
 "metadata": {
  "kernelspec": {
   "display_name": "R",
   "language": "R",
   "name": "ir"
  },
  "language_info": {
   "codemirror_mode": "r",
   "file_extension": ".r",
   "mimetype": "text/x-r-source",
   "name": "R",
   "pygments_lexer": "r",
   "version": "4.1.3"
  }
 },
 "nbformat": 4,
 "nbformat_minor": 5
}
