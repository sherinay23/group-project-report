{
 "cells": [
  {
   "cell_type": "markdown",
   "id": "3075abb8-53e3-4911-983f-837e28934853",
   "metadata": {},
   "source": [
    "# DSCI 100-Group Project : Predicting Type 2 Diabetes\n",
    "Bhavya Mohan, Jason Jonathan, Sherin X, Neha Menon"
   ]
  },
  {
   "cell_type": "markdown",
   "id": "492a32f6-6853-4057-a843-f52bdb9c9355",
   "metadata": {},
   "source": [
    "Introduction: \n"
   ]
  },
  {
   "cell_type": "markdown",
   "id": "5be01965-fd77-4930-90c3-293ba9c45fbc",
   "metadata": {},
   "source": [
    "Methods/Results:"
   ]
  },
  {
   "cell_type": "markdown",
   "id": "7191d99b-7bbd-469d-b461-69307cd0223b",
   "metadata": {},
   "source": [
    "Discussion:"
   ]
  },
  {
   "cell_type": "code",
   "execution_count": null,
   "id": "497d25e0-075b-46dd-a2b7-1329fed55fa1",
   "metadata": {},
   "outputs": [],
   "source": []
  }
 ],
 "metadata": {
  "kernelspec": {
   "display_name": "R",
   "language": "R",
   "name": "ir"
  },
  "language_info": {
   "codemirror_mode": "r",
   "file_extension": ".r",
   "mimetype": "text/x-r-source",
   "name": "R",
   "pygments_lexer": "r",
   "version": "4.1.3"
  }
 },
 "nbformat": 4,
 "nbformat_minor": 5
}
