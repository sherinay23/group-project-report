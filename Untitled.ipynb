{
 "cells": [
  {
   "cell_type": "markdown",
   "id": "6118608b-3a47-4751-bae3-58bb7b95f093",
   "metadata": {},
   "source": [
    "coding file\n"
   ]
  },
  {
   "cell_type": "code",
   "execution_count": null,
   "id": "e201f553-1eda-4d3a-a986-687121a16791",
   "metadata": {},
   "outputs": [],
   "source": []
  }
 ],
 "metadata": {
  "kernelspec": {
   "display_name": "R",
   "language": "R",
   "name": "ir"
  },
  "language_info": {
   "codemirror_mode": "r",
   "file_extension": ".r",
   "mimetype": "text/x-r-source",
   "name": "R",
   "pygments_lexer": "r",
   "version": "4.1.3"
  }
 },
 "nbformat": 4,
 "nbformat_minor": 5
}
